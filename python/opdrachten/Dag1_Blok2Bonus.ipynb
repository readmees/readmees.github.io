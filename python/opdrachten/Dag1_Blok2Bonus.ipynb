{
  "cells": [
    {
      "cell_type": "code",
      "execution_count": null,
      "metadata": {
        "id": "7Frq1iabV3qa"
      },
      "outputs": [],
      "source": [
        "''' 0. Maak een variable naam met je naam.\n",
        "Tip: je naam is een tekst en moet tussen aanhalingstekens'''\n",
        "mijn_naam ="
      ]
    },
    {
      "cell_type": "code",
      "execution_count": null,
      "metadata": {
        "id": "PbTppbzoV3qb"
      },
      "outputs": [],
      "source": [
        "1. Maak dit bericht een comment met aanhalingstekens\n",
        "- maak dit een bericht een comment met een hashtack\n",
        "1enummer = 5 # Debug dit\n",
        "nummer 1 = 5 # Debug dit"
      ]
    },
    {
      "cell_type": "code",
      "execution_count": null,
      "metadata": {
        "id": "gasQnBgaV3qc"
      },
      "outputs": [],
      "source": [
        "''' 2. Schrijf code die 'hello world' als output geeft '''\n"
      ]
    },
    {
      "cell_type": "code",
      "execution_count": null,
      "metadata": {
        "id": "I8ZlGpN9V3qc"
      },
      "outputs": [],
      "source": [
        "''' 3. Schrijf code die het antwoord van 4 keer 5 als output geeft '''\n"
      ]
    },
    {
      "cell_type": "code",
      "execution_count": null,
      "metadata": {
        "id": "e9yo-XFbV3qc"
      },
      "outputs": [],
      "source": [
        "''' 4. Schrijf code die het antwoord 4 keer 5 als output geeft en gebruik hiervoor variable '''\n"
      ]
    },
    {
      "cell_type": "code",
      "execution_count": null,
      "metadata": {
        "id": "5JNxlH4AV3qc"
      },
      "outputs": [],
      "source": [
        "''' 5. Schrijf code die een variable uit vraag 4. tot de macht 73 doet '''\n"
      ]
    },
    {
      "cell_type": "code",
      "execution_count": null,
      "metadata": {
        "id": "CV9ibQ5CV3qd"
      },
      "outputs": [],
      "source": [
        "''' 6. Schrijf code die de gebruiker naar zijn/haar naam vraagt'''\n"
      ]
    },
    {
      "cell_type": "code",
      "execution_count": null,
      "metadata": {
        "id": "f-Pi0VmBV3qd"
      },
      "outputs": [],
      "source": [
        "''' 7. Print de mail met een aanhef en uw naam.\n",
        "Tip: u heeft eerder al een variable aangemaakt met uw naam'''\n",
        "onderwerp = 'Test mail'\n",
        "\n",
        "# \\n in een string geeft aan dat er een spatie moet zijn\n",
        "mail = 'Hier is uw mail,\\nMet vriendelijke groet,\\n'\n",
        "\n",
        "# Geef de mail als output\n",
        "print('Onderwerp: ', onderwerp)\n",
        "print(mail)# Print ook de aanhef, let op de syntax"
      ]
    },
    {
      "cell_type": "code",
      "execution_count": null,
      "metadata": {
        "id": "I2wfL4OnV3qd"
      },
      "outputs": [],
      "source": [
        "''' 8. Schrijf code die het oppervlakte van een rechthoek als output geeft'''\n",
        "lengte = int(input('Wat is de lengte van het rechthoek')) #LET OP: dit werkt niet goed in Jupyter Lite\n",
        "breedte = 5\n"
      ]
    },
    {
      "cell_type": "code",
      "execution_count": null,
      "metadata": {
        "id": "KkOhyTY2V3qe"
      },
      "outputs": [],
      "source": [
        "''' Snel klaar? Probeer deze opdrachten. U kunt altijd vragen naar meer opdrachten\n",
        "    Bonus 1 - Schrijf code die vraagt naar het aantal kippen en koeien en het totaal aantal benen output.\n",
        "    Bonus 2 - Schrijf code die vraagt naar het aantal kippen en koeien en het totaal aantal benen en hoofden output.\n",
        "    Tip: gebruik na een_input=input(), int(een_input), u hoort in het volgende blok waarom.\n",
        "    LET OP: dit werkt niet goed in Jupyter Lite, vraag de docent hoe dit wel kan.'''\n",
        "kippen = input(f'Hoeveel kippen zijn er?')\n",
        "kippen = int(kippen) # In het volgende blok wordt deze regel uitgelegd\n",
        "koeien = input(f'Hoeveel koeien zijn er?')\n",
        "koeien = int(koeien) # In het volgende blok wordt deze regel uitgelegd\n",
        "\n",
        "# Reken uit:\n"
      ]
    }
  ],
  "metadata": {
    "colab": {
      "provenance": []
    },
    "kernelspec": {
      "display_name": "Python 3 (ipykernel)",
      "language": "python",
      "name": "python3"
    },
    "language_info": {
      "codemirror_mode": {
        "name": "ipython",
        "version": 3
      },
      "file_extension": ".py",
      "mimetype": "text/x-python",
      "name": "python",
      "nbconvert_exporter": "python",
      "pygments_lexer": "ipython3",
      "version": "3.9.12"
    }
  },
  "nbformat": 4,
  "nbformat_minor": 0
}