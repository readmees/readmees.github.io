{
  "metadata": {
    "kernelspec": {
      "name": "python",
      "display_name": "Pyolite",
      "language": "python"
    },
    "language_info": {
      "codemirror_mode": {
        "name": "python",
        "version": 3
      },
      "file_extension": ".py",
      "mimetype": "text/x-python",
      "name": "python",
      "nbconvert_exporter": "python",
      "pygments_lexer": "ipython3",
      "version": "3.8"
    },
    "colab": {
      "provenance": []
    }
  },
  "nbformat_minor": 0,
  "nbformat": 4,
  "cells": [
    {
      "cell_type": "code",
      "source": [
        "''' 0. For loop - Print elk element/discipline op een aparte regel '''\n",
        "wetenschappelijke_disciplines = [\"Biologie\", \"Natuurkunde\", \"Chemie\", \"Wiskunde\", \"Informatica\"]\n"
      ],
      "metadata": {
        "id": "8QoKJo4lVpqv"
      },
      "execution_count": null,
      "outputs": []
    },
    {
      "cell_type": "code",
      "source": [
        "''' 1. Iterator - Maak een van deze favoriete films een iterator en gebruik net zo vaak next() todat je bij Pulp Fiction komt '''\n",
        "favoriete_films = [\"Inception\", \"The Matrix\", \"Interstellar\", \"Pulp Fiction\", \"The Shawshank Redemption\"]\n",
        "# Jouw code"
      ],
      "metadata": {
        "id": "jAG3mIL5Ueu7"
      },
      "execution_count": null,
      "outputs": []
    },
    {
      "cell_type": "code",
      "source": [
        "''' 2. List comprehension - Muziekgenres '''\n",
        "muziekgenres = [\"Jazz\", \"Rock\", \"Electronic\", \"Classical\", \"Hip-Hop\"]\n",
        "\n",
        "# Maak een nieuwe lijst waar er 'muziekgenre' achter elk woord staat\n",
        "muziekgenres_uitgebreid = []\n",
        "for muziek in muziekgenres:\n",
        "  muziekgenres_uitgebreid.append(muziek + ' muziekgenre')\n",
        "print(muziekgenres_uitgebreid)\n",
        "\n",
        "# TODO: Zet bovenstaande code om in een list comprehension mbv de slides\n"
      ],
      "metadata": {
        "id": "m9VwF8QFWKv6"
      },
      "execution_count": null,
      "outputs": []
    },
    {
      "cell_type": "code",
      "source": [
        "''' 3. Nieuwe lijst - Gebruik een for loop om een nieuwe lijst aan te maken met alleen titels die het woord 'De' bevatten '''\n",
        "boeken_om_te_lezen = [\"1984\", \"De Alchemist\", \"De Kleine Prins\", \"To Kill a Mockingbird\", \"De Hobbit\"]\n",
        "\n",
        "De_boeken = []\n",
        "for boek in boeken_om_te_lezen:\n",
        "  # TODO: Als 'De' in boek: append() aan lijst De_boeken\n",
        "  None"
      ],
      "metadata": {
        "id": "Pi-HH-WSWFq5"
      },
      "execution_count": null,
      "outputs": []
    },
    {
      "cell_type": "code",
      "source": [
        "''' 4. Programmeertalen kiezen - Maak een nieuwe lijst waar alle talen behalve Swift inzitten'''\n",
        "programmeertalen = [\"Python\", \"JavaScript\", \"Ruby\", \"Go\", \"Swift\"]\n",
        "\n",
        "# TODO: Doe dit mbv opdracht 3\n",
        "\n",
        "# TODO: Vind nu een betere manier om dit te doen (zonder for loop)"
      ],
      "metadata": {
        "id": "Kg8VSKczWJzO"
      },
      "execution_count": null,
      "outputs": []
    },
    {
      "cell_type": "code",
      "source": [
        "''' 5. Set comprehension - Reisbestemmingen'''\n",
        "reisbestemmingen = [\"Japan\", \"IJsland\", \"Nieuw-Zeeland\", \"Canada\", \"Peru\", \"Japan\", \"IJsland\", \"Nieuw-Zeeland\", \"Canada\", \"Peru\", \"Peru\"]\n",
        "\n",
        "# Zie hier een set comprehension, het enige verschil in syntax is de soort haken!\n",
        "# TODO: Wat gebeurd hier verder?\n",
        "reisbestemming_set = {reisbestemming for reisbestemming in reisbestemmingen}\n",
        "\n",
        "# TODO: Vind nu een beter manier om dit te doen (zonder for loop)\n"
      ],
      "metadata": {
        "id": "Vd-JHay2WIdD"
      },
      "execution_count": null,
      "outputs": []
    },
    {
      "cell_type": "code",
      "source": [
        "''' 6. Variabele updaten - Schrijf de code efficienter '''\n",
        "naam = 'Mees'\n",
        "naam = naam + ' Meester'\n",
        "print(naam)"
      ],
      "metadata": {
        "id": "ekfkHmP-ZbTx"
      },
      "execution_count": null,
      "outputs": []
    },
    {
      "cell_type": "code",
      "source": [
        "''' Bonus: Zet opdracht 2 en 3 om in een list comprehension '''"
      ],
      "metadata": {
        "id": "CfgfjVV4Z_Ln"
      },
      "execution_count": null,
      "outputs": []
    }
  ]
}