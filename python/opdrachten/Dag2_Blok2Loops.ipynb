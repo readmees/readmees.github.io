{
  "metadata": {
    "kernelspec": {
      "name": "python",
      "display_name": "Pyolite",
      "language": "python"
    },
    "language_info": {
      "codemirror_mode": {
        "name": "python",
        "version": 3
      },
      "file_extension": ".py",
      "mimetype": "text/x-python",
      "name": "python",
      "nbconvert_exporter": "python",
      "pygments_lexer": "ipython3",
      "version": "3.8"
    },
    "colab": {
      "provenance": []
    }
  },
  "nbformat_minor": 0,
  "nbformat": 4,
  "cells": [
    {
      "cell_type": "code",
      "source": [
        "''' 0. For-loops\n",
        "Voorbeeld:\n",
        "for i in range(8, 13):\n",
        "  print(f'Gebruiker {i}')\n",
        "\n",
        "TODO: verkrijg de volgende output op een vergelijkbare manier als hierboven\n",
        "Afbeelding 1\n",
        "Afbeelding 2\n",
        "Afbeelding 3\n",
        "Afbeelding 4\n",
        "Afbeelding 5\n",
        "'''"
      ],
      "metadata": {
        "colab": {
          "base_uri": "https://localhost:8080/"
        },
        "id": "umydckyRxs6k",
        "outputId": "a470374c-73ce-4918-b066-077d5e4bc3ed"
      },
      "execution_count": null,
      "outputs": [
        {
          "output_type": "stream",
          "name": "stdout",
          "text": [
            "Gebruiker 8\n",
            "Gebruiker 9\n",
            "Gebruiker 10\n",
            "Gebruiker 11\n",
            "Gebruiker 12\n"
          ]
        }
      ]
    },
    {
      "cell_type": "code",
      "source": [
        "''' 1. For-loops - Run de code en kijk wat er gebeurd'''\n",
        "fruits = ['mango', 'banaan', 'druif']\n",
        "user_input = input('Welk fruit wilt u?')\n",
        "input_gevonden = False\n",
        "for fruit in fruits:\n",
        "  if fruit == user_input:\n",
        "    input_gevonden = True\n",
        "if input_gevonden:\n",
        "  print(f'Er is een {user_input} in de fruits-lijst')\n",
        "else:\n",
        "  print(f'Er is geen {user_input} in de fruits-lijst')"
      ],
      "metadata": {
        "id": "yYrZ3boByhD7"
      },
      "execution_count": null,
      "outputs": []
    },
    {
      "cell_type": "code",
      "source": [
        "''' 2. For-loops - Maak een lijst met gebruikers aan en kijk of een gebruiker al\n",
        "geregistreed is mbv de code in opdracht 1.'''\n"
      ],
      "metadata": {
        "id": "simlRgBnzK2h"
      },
      "execution_count": null,
      "outputs": []
    },
    {
      "cell_type": "code",
      "source": [
        "''' 3. For-loops - Herschrijf de onderstaande code in minder regels mbv een for-loop'''\n",
        "lijstje = []\n",
        "lijstje.append(input('Welk element wilt u toevoegen aan de lijst?'))\n",
        "lijstje.append(input('Welk element wilt u nog meer toevoegen aan de lijst?'))\n",
        "lijstje.append(input('Welk element wilt u nog meer toevoegen aan de lijst?'))\n",
        "lijstje.append(input('Welk element wilt u nog meer toevoegen aan de lijst?'))\n",
        "lijstje.append(input('Welk element wilt u nog meer toevoegen aan de lijst?'))\n",
        "lijstje.append(input('Welk element wilt u nog meer toevoegen aan de lijst?'))\n",
        "print('De lijst is nu:', lijstje)"
      ],
      "metadata": {
        "id": "4CNUhLvp0Jgh"
      },
      "execution_count": null,
      "outputs": []
    },
    {
      "cell_type": "code",
      "source": [
        "''' 4. For-loops - Herschrijf de onderstaande code in minder regels mbv een for-loop\n",
        "    Tip: Gebruik for input_vraag in ['Naam', 'Achternaam', 'Leeftijd', 'Woonplaats']: oid'''\n",
        "lijstje = []\n",
        "lijstje.append(input('Naam'))\n",
        "lijstje.append(input('Achternaam'))\n",
        "lijstje.append(input('Leeftijd'))\n",
        "lijstje.append(input('Woonplaats'))\n",
        "print('Uw antwoorden waren:', lijstje)"
      ],
      "metadata": {
        "id": "Oen7NwHR05s3"
      },
      "execution_count": null,
      "outputs": []
    },
    {
      "cell_type": "code",
      "source": [
        "''' 5. For-loops - Vind het hoogste nummer in de lijst met een for-loop'''\n",
        "nummers = [12,2122,3,4, 483902, 1, -3000]\n",
        "hoogste_nummer = ..."
      ],
      "metadata": {
        "id": "iU7TUjAk1b0f"
      },
      "execution_count": null,
      "outputs": []
    },
    {
      "cell_type": "code",
      "source": [
        "''' 6. For-loops & Functie - Maak een functie met for-loop die 'O nee!'\n",
        "  als output geeft als de letter in de lijst zit'''\n",
        "def verboden_letter(letter, lijst):\n",
        "    #TODO schrijf hier je code\n",
        "\n",
        "verboden_letter(\"r\", [\"rock\", \"paper\", \"scissors\"]) # Zou 'O nee!' als output moeten geven\n",
        "verboden_letter(\"a\", [\"spoon\", \"fork\", \"knife\"]) # Zou 'Oef' als output moeten geven\n",
        "verboden_letter(\"m\", []) # Zou 'Oef' als output moeten geven"
      ],
      "metadata": {
        "id": "ZXXXsjoH1k_Y"
      },
      "execution_count": null,
      "outputs": []
    },
    {
      "cell_type": "code",
      "source": [
        "''' 7. While-loops - Speel met de z-waarde'''\n",
        "z = 0\n",
        "\n",
        "while z < 3:\n",
        "    if z == 0:\n",
        "        print(\"z is\",z)\n",
        "        z += 1\n",
        "    elif z == 1:\n",
        "        print(\"z is\",z)\n",
        "        z += 1\n",
        "    else:\n",
        "        print(\"z is\",z)\n",
        "        z += 1"
      ],
      "metadata": {
        "id": "EBDcXg7I9TJe"
      },
      "execution_count": null,
      "outputs": []
    },
    {
      "cell_type": "code",
      "source": [
        "''' 8. While-loops - Zorg dat de myList als output\n",
        "[0, 2, 4, 6, 8, 10, 12, 14] geeft\n",
        "'''\n",
        "myList = []\n",
        "i = 0\n",
        "\n",
        "while len(myList) < 4 :\n",
        "    myList.append(i)\n",
        "    i += 1\n",
        "\n",
        "print(myList)"
      ],
      "metadata": {
        "id": "lNIib73W9k4A"
      },
      "execution_count": null,
      "outputs": []
    },
    {
      "cell_type": "code",
      "source": [
        "''' 9. While-loops - Zorg dat alle elementen verwijderd worden uit fruitsList'''\n",
        "fruitsList = [\"Mango\",\"Apple\",\"Orange\",\"Guava\"]\n",
        "while fruitsList:\n",
        "    #TODO schrijf hier je code\n",
        "\n",
        "print(fruitsList)"
      ],
      "metadata": {
        "id": "xJTjRzQs-JXL"
      },
      "execution_count": null,
      "outputs": []
    },
    {
      "cell_type": "code",
      "source": [
        "''' 10. Piramide van Sterren - Grote opdracht: Schrijf een Python-programma dat een piramide van sterren (*) afdrukt op het scherm. De gebruiker moet in staat zijn om de hoogte van de piramide (het aantal rijen) als input op te geven.\n",
        "\n",
        "Eisen:\n",
        "Het programma vraagt de gebruiker om de hoogte van de piramide in te voeren.\n",
        "Gebruik een for-loop om de piramide te tekenen.\n",
        "Voor elke rij, het aantal afgedrukte sterren komt overeen met het rijnummer (bijvoorbeeld, rij 1 heeft 1 ster, rij 2 heeft 2 sterren, etc.).\n",
        "Zorg ervoor dat de piramide netjes gecentreerd is op het scherm.\n",
        "Voorbeeld van de uitvoer:\n",
        "Als de gebruiker 5 invoert als de hoogte van de piramide:\n",
        "\n",
        "markdown\n",
        "Copy code\n",
        "    *\n",
        "   ***\n",
        "  *****\n",
        " *******\n",
        "*********\n",
        "Tips:\n",
        "Gebruik twee for-loops: een voor de rijen en een voor het afdrukken van de spaties en sterren per rij.\n",
        "Je hebt mogelijk een extra for-loop nodig binnen de rij-loop om de spaties voor de sterren op elke rij af te drukken.'''\n",
        "\n"
      ],
      "metadata": {
        "id": "uJtV-EETNKy2"
      },
      "execution_count": null,
      "outputs": []
    },
    {
      "cell_type": "code",
      "source": [
        "'''Bonus: Probeer het programma uit opdracht 10 zo te schrijven dat het ook in staat is om de piramide omgekeerd af te drukken.'''"
      ],
      "metadata": {
        "id": "O8t3NbzNNYBN"
      },
      "execution_count": null,
      "outputs": []
    }
  ]
}