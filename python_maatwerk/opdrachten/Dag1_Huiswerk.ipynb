{
  "cells": [
    {
      "cell_type": "code",
      "execution_count": 25,
      "metadata": {
        "id": "LWAM-tXYhSB9"
      },
      "outputs": [],
      "source": [
        "''' RUN DEZE CELL ALTIJD.\n",
        "Deze code mag je negeren en hoef je niet te begrijpen; het is om je te helpen met checks en tips. '''\n",
        "def tip(index, items=[\"Maak gebruik van de type() functie om te experimenteren met en te begrijpen welk datatype elke variabele heeft.\",\"Gebruik de input() functie voor het vragen van de gebruiker om input en zet de input om in het juiste datatype indien nodig.\",\"Test je if, elif, en else statements met verschillende waarden om alle mogelijke uitkomsten te zien.\",\"Gebruik een for-loop om door een reeks getallen te itereren met range() en een while-loop om een conditie te blijven checken.\",\"Vergeet niet je functie te 'returnen' na het uitvoeren van de gewenste berekeningen, om het resultaat te kunnen gebruiken.\",\"Experimenteer met negatieve indexen om te zien hoe je gemakkelijk het laatste element van een lijst kunt benaderen.\",\"Aangezien deze vraag meerdere subvragen bevat kan het helpen deze te printen zodat je merkt hoe de lijst eruit ziet na het uitvoeren van je operaties.\",\"Probeer string methoden zoals .upper(), .lower(), en .len() om verschillende string operaties uit te voeren.\",\"Onthoud dat je toegang kunt krijgen tot een waarde in een dictionary met zijn sleutel, bijvoorbeeld dict['sleutel'].\", \"Gebruik een lijst voor elke rij en stop die lijsten in een lijst.\"]): return f'Hier is je tip voor vraag {index}: \\n' + items[index-1] if type(index) == int and 1 <= index < len(items) + 1 else 'Er is geen tip voor deze opdracht'\n",
        "def check(input, help): return 'Goed: je antwoord klopt volgens deze check' if input else help.replace('Fout:', 'Het antwoord klopt nog niet helemaal:')"
      ]
    },
    {
      "cell_type": "code",
      "execution_count": 7,
      "metadata": {
        "colab": {
          "base_uri": "https://localhost:8080/",
          "height": 90
        },
        "id": "cRPRuxcHhy8E",
        "outputId": "e6f074b5-0b03-4ca1-f8b3-a4fad44f37d5"
      },
      "outputs": [
        {
          "output_type": "stream",
          "name": "stdout",
          "text": [
            "Hier is je tip voor vraag 1: \n",
            "Maak gebruik van de type() functie om te experimenteren met en te begrijpen welk datatype elke variabele heeft.\n"
          ]
        },
        {
          "output_type": "execute_result",
          "data": {
            "text/plain": [
              "'Het antwoord klopt nog niet helemaal: de waarde van a is niet correct'"
            ],
            "application/vnd.google.colaboratory.intrinsic+json": {
              "type": "string"
            }
          },
          "metadata": {},
          "execution_count": 7
        }
      ],
      "source": [
        "''' Opdracht 0: Variabelen toewijzen'''\n",
        "# TODO: Maak een variabele genaamd `a` en wijs de tekst 'Python' toe\n",
        "a = None # De variabele a is nu nog niets\n",
        "\n",
        "# Op deze manier laat je een tip zien (1 staat voor opdracht 1, dit is opdracht\n",
        "# 0, dus het is de tip voor de volgende opdracht)\n",
        "print(tip(1))\n",
        "\n",
        "# Deze regel controleert of je antwoord goed is\n",
        "check(a == 'Python', \"Fout: de waarde van a is niet correct\")"
      ]
    },
    {
      "cell_type": "code",
      "execution_count": null,
      "metadata": {
        "id": "TMAAw25iV4r9"
      },
      "outputs": [],
      "source": [
        "''' Opdracht 1: Variabelen en Datatypes'''\n",
        "# TODO: Maak variabelen voor verschillende datatypes (int, float, string, list)\n",
        "int_var = None # Jouw antwoord\n",
        "float_var = None # Jouw antwoord\n",
        "str_var = None # Jouw antwoord\n",
        "list_var = None # Jouw antwoord\n",
        "dict_var = None # Jouw antwoord\n",
        "\n",
        "# TODO: Print deze variabelen uit\n",
        "\n",
        "check(isinstance(int_var, int), \"Fout: de int variabele heeft nog niet het juist datatype\")\n",
        "check(isinstance(float_var, float), \"Fout: de float variabele heeft nog niet het juist datatype\")\n",
        "check(isinstance(str_var, str), \"Fout: de string variabele heeft nog niet het juist datatype\")\n",
        "check(isinstance(list_var, list), \"Fout: de list variabele heeft nog niet het juist datatype\")\n",
        "check(isinstance(dict_var, dict), \"Fout: de dictionary variabele heeft nog niet het juist datatype\")"
      ]
    },
    {
      "cell_type": "code",
      "source": [
        "''' Opdracht 2: Input van Gebruiker]\n",
        "Schrijf een programma dat de gebruiker vraagt naar hun naam en leeftijd en deze\n",
        "informatie uitprint op een mooie manier.'''\n",
        "# TODO: Vraag naar naam en leeftijd\n",
        "naam = None # Jouw antwoord\n",
        "leeftijd = int(input('Leeftijd'))\n",
        "\n",
        "# TODO: Print het uit\n",
        "\n"
      ],
      "metadata": {
        "id": "adu8QPvOlRvw"
      },
      "execution_count": null,
      "outputs": []
    },
    {
      "cell_type": "code",
      "source": [
        "''' Opdracht 3: Conditionele Logica\n",
        "Schrijf een functie die controleert of een getal positief, negatief of nul is.'''\n",
        "def getal_checker(x):\n",
        "  # TODO: Maak deze functie af\n",
        "  return 'positief'\n",
        "\n",
        "# TODO: Test je functie\n"
      ],
      "metadata": {
        "id": "jBwWP0QGnJxx"
      },
      "execution_count": 9,
      "outputs": []
    },
    {
      "cell_type": "code",
      "source": [
        "''' Opdracht 4: Loops\n",
        "Schrijf een functie die alle EVEN getallen van een lijst print.'''\n",
        "def evenaar(l):\n",
        "  # TODO: Maak deze functie af\n",
        "  return l\n",
        "\n",
        "print(evenaar([1,2,3,4,5,6,7,8,9,10]))\n",
        "# TODO: Test je functie op met verschillende inputs\n"
      ],
      "metadata": {
        "id": "Uam1kiXInQhC"
      },
      "execution_count": null,
      "outputs": []
    },
    {
      "cell_type": "code",
      "source": [
        "''' Opdracht 5: Functies\n",
        "Definieer een functie die twee getallen als argumenten neemt en hun som retourneert.\n",
        "Roep deze functie aan met verschillende sets van getallen.'''\n",
        "# TODO: Vul hier je code in"
      ],
      "metadata": {
        "id": "oEn1tQrqnSDc"
      },
      "execution_count": null,
      "outputs": []
    },
    {
      "cell_type": "code",
      "source": [
        "''' Opdracht 6: Lijsten en Indexering\n",
        "Maak een lijst met ten minste 5 elementen.\n",
        "Schrijf een programma dat het eerste, derde en laatste element uitprint.'''\n",
        "def lijst_trekker(x):\n",
        "  return x[0] # TODO: Maak af\n",
        "\n",
        "print()"
      ],
      "metadata": {
        "id": "9bwIy1sl00my"
      },
      "execution_count": null,
      "outputs": []
    },
    {
      "cell_type": "code",
      "source": [
        "''' Opdracht 7: Lijstbewerkingen'''\n",
        "l = [str, int, list, tuple, set, dict, str, str, int]\n",
        "# TODO: Voeg een element toe aan de lijst die je in Opdracht 6 hebt gemaakt\n",
        "\n",
        "# TODO: Verwijder een element uit de lijst met pop()\n",
        "\n",
        "# TODO: Vervang element (tuple) in de lijst door str\n",
        "\n",
        "# TODO: Vervang het laatste element in de lijst door 'appel'\n",
        "\n",
        "\n",
        "check(l == [str, int, str, tuple, set, dict, str, str, 'appel'], 'Fout: er gaat toch nog iets mis')"
      ],
      "metadata": {
        "id": "NugCgkZQ01zk"
      },
      "execution_count": null,
      "outputs": []
    },
    {
      "cell_type": "code",
      "source": [
        "''' Opdracht 8: Werken met Strings\n",
        "Schrijf een programma dat de lengte van een string bepaalt.\n",
        "Verander een string van kleine letters naar hoofdletters.'''\n",
        "def upper_len(tekst):\n",
        "  return len(tekst), tekst # TODO: Maak af\n",
        "\n",
        "# Een functie kan ook meerdere variabele returnen (als een tuple)\n",
        "lengte, tekst = upper_len('Python')\n",
        "print(lengte, tekst)\n",
        "print(type(upper_len('programmeren')))\n",
        "\n",
        "# TODO: Print nu 'De lengte is ... voor de tekst ...' voor een willekeurige tekst\n",
        "tip(8)"
      ],
      "metadata": {
        "id": "St33kzDA03YG"
      },
      "execution_count": null,
      "outputs": []
    },
    {
      "cell_type": "code",
      "source": [
        "''' Opdracht 9: Dictionaries'''\n",
        "# TODO: Maak een dictionary met ten minste 3 sleutel-waarde paren\n",
        "\n",
        "# TODO: Print een waarde uit op basis van zijn sleutel\n"
      ],
      "metadata": {
        "id": "UHP7VYkJ04aw"
      },
      "execution_count": null,
      "outputs": []
    },
    {
      "cell_type": "code",
      "source": [
        "''' Opdracht 10: Multidimensionale Lijsten\n",
        "Werken met het 3x3 speelveld in Boter-Kaas-en-Eieren.'''\n",
        "# TODO: Maak een 2D-lijst (een lijst van lijsten) die een 3x3 raster representeert.\n"
      ],
      "metadata": {
        "id": "3bGP5s0a05pI"
      },
      "execution_count": null,
      "outputs": []
    }
  ],
  "metadata": {
    "colab": {
      "provenance": []
    },
    "kernelspec": {
      "display_name": "Python 3",
      "name": "python3"
    },
    "language_info": {
      "codemirror_mode": {
        "name": "ipython",
        "version": 3
      },
      "file_extension": ".py",
      "mimetype": "text/x-python",
      "name": "python",
      "nbconvert_exporter": "python",
      "pygments_lexer": "ipython3",
      "version": "3.11.5"
    }
  },
  "nbformat": 4,
  "nbformat_minor": 0
}