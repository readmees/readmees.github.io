{
  "cells": [
    {
      "cell_type": "code",
      "execution_count": null,
      "metadata": {
        "id": "umydckyRxs6k"
      },
      "outputs": [],
      "source": [
        "''' 0a. Rekenen - Maak een functie die het oppervlakte van een cirkel kan berekenen.\n",
        "Tip: Je mag voor pi het getal 3.14 gebruiken '''\n",
        "def oppervlakte(straal):\n",
        "  return  # TODO: Vervang None voor de formule om de oppervlakte te berekenen\n",
        "\n",
        "# Jouw code om je uitkomst te controleren"
      ]
    },
    {
      "cell_type": "code",
      "execution_count": null,
      "metadata": {
        "id": "JcS8OVygToxS"
      },
      "outputs": [],
      "source": [
        "''' 0b. Rekenen - Maak een functie die de omtrek van een rechthoek kan berekenen.'''\n",
        "def omtrek(lengte, breedte):\n",
        "  return None # TODO: Vervang None voor de formule om de omtrek te berekenen\n",
        "\n",
        "# Jouw code om je uitkomst te controleren"
      ]
    },
    {
      "cell_type": "code",
      "execution_count": null,
      "metadata": {
        "id": "2qKn-SEiO2VZ"
      },
      "outputs": [],
      "source": [
        "''' 1. Wachtwoord - Maak een functie die controleert of het antwoord goed is\n",
        "\n",
        "Tip: Gebruik if statement'''\n",
        "\n",
        "def kluis(wachtwoord):\n",
        "  # TODO: Maak de code af\n",
        "  return 'Het wachtwoord is correct'\n",
        "\n",
        "# Code om je uitkomst te controleren\n",
        "print(kluis('123'))\n",
        "\n",
        "# TODO: Voeg extra checks toe"
      ]
    },
    {
      "cell_type": "code",
      "execution_count": null,
      "metadata": {
        "id": "qWuJj_HNPySX"
      },
      "outputs": [],
      "source": [
        "''' 2. Datatypes - Maak een functie die het type van een object op een mooie manier weergeeft,\n",
        "Bijvoorbeeld voor type_machine(123): 'Het type van 123 is een <class 'int'>!'\n",
        "Bonus: je kan mbv van string slicing zorgen dat alleen int wordt gepakt ipv <class 'int'>\n",
        "'''\n",
        "def type_machine(w):\n",
        "  datatype = str(type(w))\n",
        "  return None # TODO: Vervang None voor een string zoals 'Het type van 123 is een <class 'int'>!'\n",
        "\n",
        "# Code om je uitkomst te controleren\n",
        "print(type_machine(20))\n",
        "\n",
        "# TODO: Voeg extra checks toe"
      ]
    },
    {
      "cell_type": "code",
      "execution_count": null,
      "metadata": {
        "id": "toXFuWP4Q0zJ"
      },
      "outputs": [],
      "source": [
        "''' 3. Strings - Gebruik de methods en string slicing '''\n",
        "s = '     waarom hEeft PythOn zoveeL raRe tekens?!       '\n",
        "\n",
        "# TODO: Zet s om in hoofdletters\n",
        "\n",
        "# TODO: Haal de spaties rondom de zin weg\n",
        "\n",
        "# TODO: Haal nu alle spaties weg\n",
        "\n",
        "# TODO: laat alleen 'VEEL TEKENS!, MAAR Waarom?' zien met behulp van string slicing\n",
        "s = s[3:9]+' '+s[10:19].lower()\n",
        "print(s)"
      ]
    },
    {
      "cell_type": "code",
      "execution_count": null,
      "metadata": {
        "id": "jxPi4HkfSWO_"
      },
      "outputs": [],
      "source": [
        "''' 4. Lists - We gaan weer oefenen met de lists '''\n",
        "# TODO: Maak een boodschappen lijstje aan met het datatype list\n",
        "l = None\n",
        "\n",
        "# TODO: Voeg 'havermout' toe mbv append() en print de lijst\n",
        "\n",
        "# TODO: Haal 'havermout' en het op een na laatste element weg mbv pop() en print de lijst\n",
        "\n",
        "# TODO: Voeg twee keer 'appel' toe mbv append() en print de LENGTE van de lijst mbv len()\n",
        "\n",
        "# TODO: Maak een set van je lijst en print nogmaals en de LENGTE van de lijst mbv len()\n"
      ]
    },
    {
      "cell_type": "code",
      "execution_count": null,
      "metadata": {
        "id": "4HjGPg1uQN-e"
      },
      "outputs": [],
      "source": [
        "''' 5. Even/oneven - Maak een functie die weergeeft of een getal even of oneven is\n",
        "Tip: getal modulo 2 is altijd gelijk aan 0 als het getal even is'''\n",
        "def even_oneven(x):\n",
        "  # TODO: Maak de code af\n",
        "  return 'Het getal is oneven'\n",
        "\n",
        "# Code om je uitkomst te controleren\n",
        "print(even_oneven(123))\n",
        "\n",
        "# TODO: Voeg extra checks toe"
      ]
    }
  ],
  "metadata": {
    "colab": {
      "provenance": []
    },
    "kernelspec": {
      "display_name": "Pyolite",
      "language": "python",
      "name": "python"
    },
    "language_info": {
      "codemirror_mode": {
        "name": "python",
        "version": 3
      },
      "file_extension": ".py",
      "mimetype": "text/x-python",
      "name": "python",
      "nbconvert_exporter": "python",
      "pygments_lexer": "ipython3",
      "version": "3.8"
    }
  },
  "nbformat": 4,
  "nbformat_minor": 0
}
