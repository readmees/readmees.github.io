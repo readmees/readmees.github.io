{
  "cells": [
    {
      "cell_type": "code",
      "execution_count": null,
      "metadata": {},
      "outputs": [],
      "source": [
        "''' Opdracht 1: De Gokker'''\n",
        "# TODO: Schrijf een programma dat een willekeurig getal tussen 1 en 10 kiest. Laat de gebruiker het getal raden. Geef feedback of het geraden getal te hoog, te laag, of correct is.\n",
        "# Tip: je hebt hier een library voor nodig, het is de bedoeling dat je Google gebruikt.\n"
      ]
    },
    {
      "cell_type": "code",
      "execution_count": null,
      "metadata": {},
      "outputs": [],
      "source": [
        "\n",
        "''' Opdracht 2: Galgje'''\n",
        "# TODO: Programmeer een versie van het spel \"Galgje\". Kies een woord en laat de gebruiker letters raden. Je hoeft niet de man te tekenen; toon het aantal resterende pogingen (bijv. 10) en vul de geraden letters in het woord in.\n",
        "def galgje(geraden_letters, woord, pogingen):\n",
        "    #TODO: maak af/breid deze functie uit\n",
        "    galgje_woord = ''\n",
        "    for letter in woord:\n",
        "        if letter in geraden_letters:\n",
        "            galgje_woord += letter\n",
        "        else:\n",
        "            galgje_woord += '_'\n",
        "    print(galgje_woord)\n",
        "    if galgje_woord == woord:\n",
        "        print('Gefeliciteerd, je hebt het woord geraden!')\n",
        "        pogingen = 0\n",
        "    return pogingen - 1\n",
        "\n",
        "woord, pogingen = 'python', 10\n",
        "geraden_letters = []\n",
        "while pogingen > 0:\n",
        "    letter = input('Welke letter gok je?')\n",
        "    geraden_letters.append(letter)\n",
        "    pogingen = galgje(geraden_letters, woord, pogingen)\n",
        "\n",
        "# Bonus: zorg dat gebruikers alleen maar letters kunnen invullen en geen letters die ze al eerder hebben ingevuld."
      ]
    },
    {
      "cell_type": "code",
      "execution_count": null,
      "metadata": {},
      "outputs": [],
      "source": [
        "''' Opdracht 3: Drie op een rij\n",
        "Je kan de string '1 2 3 \\n 4 5 6 \\n 7 8 9' als speelveld te gebruiken en die in een while-loop aan te passen.\n",
        "Input '5' betekend dan zet een kruis/rondje neer\n",
        "Tip: het is hier aangeraden om met een functie te werken die op basis van een speelveld beslist of het spel gewonnen/voorbij is.'''\n",
        "# De volgende code zorgt ervoor dat je oneindig lang tussen X en O kan switchen\n",
        "from itertools import cycle\n",
        "player = cycle(['X', 'O'])\n",
        "print(next(player))\n",
        "print(next(player))\n",
        "print(next(player))\n",
        "print(next(player))\n",
        "\n",
        "# TODO: Maak het spel"
      ]
    }
  ],
  "metadata": {
    "colab": {
      "provenance": []
    },
    "kernelspec": {
      "display_name": "trans3",
      "language": "python",
      "name": "python3"
    },
    "language_info": {
      "codemirror_mode": {
        "name": "ipython",
        "version": 3
      },
      "file_extension": ".py",
      "mimetype": "text/x-python",
      "name": "python",
      "nbconvert_exporter": "python",
      "pygments_lexer": "ipython3",
      "version": "3.11.5"
    }
  },
  "nbformat": 4,
  "nbformat_minor": 0
}
