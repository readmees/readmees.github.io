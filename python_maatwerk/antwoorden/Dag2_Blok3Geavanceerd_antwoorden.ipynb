{
  "cells": [
    {
      "cell_type": "code",
      "execution_count": 1,
      "metadata": {
        "id": "8QoKJo4lVpqv"
      },
      "outputs": [
        {
          "name": "stdout",
          "output_type": "stream",
          "text": [
            "Biologie\n",
            "Natuurkunde\n",
            "Chemie\n",
            "Wiskunde\n",
            "Informatica\n"
          ]
        }
      ],
      "source": [
        "''' 0. For loop - Print elk element/discipline op een aparte regel '''\n",
        "wetenschappelijke_disciplines = [\"Biologie\", \"Natuurkunde\", \"Chemie\", \"Wiskunde\", \"Informatica\"]\n",
        "\n",
        "for discipline in wetenschappelijke_disciplines:\n",
        "    print(discipline)"
      ]
    },
    {
      "cell_type": "code",
      "execution_count": 6,
      "metadata": {
        "id": "jAG3mIL5Ueu7"
      },
      "outputs": [
        {
          "data": {
            "text/plain": [
              "'Pulp Fiction'"
            ]
          },
          "execution_count": 6,
          "metadata": {},
          "output_type": "execute_result"
        }
      ],
      "source": [
        "''' 1. Iterator - Maak een van deze favoriete films een iterator en gebruik net zo vaak next() todat je bij Pulp Fiction komt '''\n",
        "favoriete_films = [\"Inception\", \"The Matrix\", \"Interstellar\", \"Pulp Fiction\", \"The Shawshank Redemption\"]\n",
        "# Jouw code\n",
        "favoriete_films = iter(favoriete_films)\n",
        "next(favoriete_films)\n",
        "next(favoriete_films)\n",
        "next(favoriete_films)\n",
        "next(favoriete_films)"
      ]
    },
    {
      "cell_type": "code",
      "execution_count": 7,
      "metadata": {
        "id": "m9VwF8QFWKv6"
      },
      "outputs": [
        {
          "name": "stdout",
          "output_type": "stream",
          "text": [
            "['Jazz muziekgenre', 'Rock muziekgenre', 'Electronic muziekgenre', 'Classical muziekgenre', 'Hip-Hop muziekgenre']\n",
            "['Jazz muziekgenre', 'Rock muziekgenre', 'Electronic muziekgenre', 'Classical muziekgenre', 'Hip-Hop muziekgenre']\n"
          ]
        }
      ],
      "source": [
        "''' 2. List comprehension - Muziekgenres '''\n",
        "muziekgenres = [\"Jazz\", \"Rock\", \"Electronic\", \"Classical\", \"Hip-Hop\"]\n",
        "\n",
        "# Maak een nieuwe lijst waar er 'muziekgenre' achter elk woord staat\n",
        "muziekgenres_uitgebreid = []\n",
        "for muziek in muziekgenres:\n",
        "  muziekgenres_uitgebreid.append(muziek + ' muziekgenre')\n",
        "print(muziekgenres_uitgebreid)\n",
        "\n",
        "# TODO: Zet bovenstaande code om in een list comprehension mbv de slides\n",
        "muziekgenres_uitgebreid = [muziek + ' muziekgenre' for muziek in muziekgenres]\n",
        "print(muziekgenres_uitgebreid)"
      ]
    },
    {
      "cell_type": "code",
      "execution_count": 9,
      "metadata": {
        "id": "Pi-HH-WSWFq5"
      },
      "outputs": [
        {
          "name": "stdout",
          "output_type": "stream",
          "text": [
            "['De Alchemist', 'De Kleine Prins', 'De Hobbit']\n"
          ]
        }
      ],
      "source": [
        "''' 3. Nieuwe lijst - Gebruik een for loop om een nieuwe lijst aan te maken met alleen titels die het woord 'De' bevatten '''\n",
        "boeken_om_te_lezen = [\"1984\", \"De Alchemist\", \"De Kleine Prins\", \"To Kill a Mockingbird\", \"De Hobbit\"]\n",
        "\n",
        "De_boeken = []\n",
        "for boek in boeken_om_te_lezen:\n",
        "  # TODO: Als 'De' in boek: append() aan lijst De_boeken\n",
        "  if \"De\" in boek:\n",
        "    De_boeken.append(boek)\n",
        "print(De_boeken)"
      ]
    },
    {
      "cell_type": "code",
      "execution_count": 12,
      "metadata": {
        "id": "Kg8VSKczWJzO"
      },
      "outputs": [
        {
          "name": "stdout",
          "output_type": "stream",
          "text": [
            "['Python', 'JavaScript', 'Ruby', 'Go']\n",
            "['Python', 'JavaScript', 'Ruby', 'Go']\n"
          ]
        }
      ],
      "source": [
        "''' 4. Programmeertalen kiezen - Maak een nieuwe lijst waar alle talen behalve Swift inzitten'''\n",
        "programmeertalen = [\"Python\", \"JavaScript\", \"Swift\", \"Ruby\", \"Go\"]\n",
        "\n",
        "# TODO: Doe dit mbv opdracht 3\n",
        "nieuwe_programmeertalen = []\n",
        "for programmeertaal in programmeertalen:\n",
        "    if programmeertaal != 'Swift':\n",
        "        nieuwe_programmeertalen.append(programmeertaal)\n",
        "print(nieuwe_programmeertalen)\n",
        "\n",
        "# TODO: Vind nu een betere manier om dit te doen (zonder for loop)\n",
        "# Tip: use .remove()\n",
        "nieuwe_programmeertalen = programmeertalen # Maak een kopie van de lijst #Tip: veiliger is met programmeertalen.copy()\n",
        "nieuwe_programmeertalen.remove('Swift')\n",
        "print(nieuwe_programmeertalen)"
      ]
    },
    {
      "cell_type": "code",
      "execution_count": 13,
      "metadata": {
        "id": "Vd-JHay2WIdD"
      },
      "outputs": [],
      "source": [
        "''' 5. Set comprehension - Reisbestemmingen'''\n",
        "reisbestemmingen = [\"Japan\", \"IJsland\", \"Nieuw-Zeeland\", \"Canada\", \"Peru\", \"Japan\", \"IJsland\", \"Nieuw-Zeeland\", \"Canada\", \"Peru\", \"Peru\"]\n",
        "\n",
        "# Zie hier een set comprehension, het enige verschil in syntax is de soort haken!\n",
        "# TODO: Wat gebeurd hier verder?\n",
        "reisbestemming_set = {reisbestemming for reisbestemming in reisbestemmingen}\n",
        "\n",
        "# TODO: Vind nu een beter manier om dit te doen (zonder for loop)\n",
        "reisbestemming_set = set(reisbestemmingen)"
      ]
    },
    {
      "cell_type": "code",
      "execution_count": null,
      "metadata": {
        "id": "ekfkHmP-ZbTx"
      },
      "outputs": [],
      "source": [
        "''' 6. Variabele updaten - Schrijf de code efficienter '''\n",
        "naam = 'Mees'\n",
        "naam += ' Meester'\n",
        "print(naam)"
      ]
    },
    {
      "cell_type": "code",
      "execution_count": 15,
      "metadata": {
        "id": "CfgfjVV4Z_Ln"
      },
      "outputs": [
        {
          "name": "stdout",
          "output_type": "stream",
          "text": [
            "['De Alchemist', 'De Kleine Prins', 'De Hobbit']\n",
            "['Python', 'JavaScript', 'Ruby', 'Go']\n"
          ]
        }
      ],
      "source": [
        "''' Bonus: Zet opdracht 3 en 4 om in een list comprehension '''\n",
        "# 3\n",
        "De_boeken = [boek for boek in boeken_om_te_lezen if \"De\" in boek]\n",
        "print(De_boeken)\n",
        "\n",
        "# 4\n",
        "nieuwe_programmeertalen = [programmeertaal for programmeertaal in programmeertalen if programmeertaal != 'Swift']\n",
        "print(nieuwe_programmeertalen)"
      ]
    }
  ],
  "metadata": {
    "colab": {
      "provenance": []
    },
    "kernelspec": {
      "display_name": "trans",
      "language": "python",
      "name": "python3"
    },
    "language_info": {
      "codemirror_mode": {
        "name": "ipython",
        "version": 3
      },
      "file_extension": ".py",
      "mimetype": "text/x-python",
      "name": "python",
      "nbconvert_exporter": "python",
      "pygments_lexer": "ipython3",
      "version": "3.11.5"
    }
  },
  "nbformat": 4,
  "nbformat_minor": 0
}
