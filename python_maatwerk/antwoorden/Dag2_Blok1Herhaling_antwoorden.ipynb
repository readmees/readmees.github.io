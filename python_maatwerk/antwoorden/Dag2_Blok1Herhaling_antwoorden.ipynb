{
  "cells": [
    {
      "cell_type": "code",
      "execution_count": 1,
      "metadata": {
        "id": "umydckyRxs6k"
      },
      "outputs": [
        {
          "data": {
            "text/plain": [
              "5024.0"
            ]
          },
          "execution_count": 1,
          "metadata": {},
          "output_type": "execute_result"
        }
      ],
      "source": [
        "''' Opdracht 0a: Rekenen - Maak een functie die het oppervlakte van een cirkel kan berekenen.\n",
        "Tip: Je mag voor pi het getal 3.14 gebruiken '''\n",
        "def oppervlakte(straal):\n",
        "  return straal**2*3.14\n",
        "\n",
        "# Jouw code om je uitkomst te controleren\n",
        "oppervlakte(4)\n",
        "oppervlakte(40)"
      ]
    },
    {
      "cell_type": "code",
      "execution_count": null,
      "metadata": {
        "id": "JcS8OVygToxS"
      },
      "outputs": [],
      "source": [
        "''' Opdracht 0b: Rekenen - Maak een functie die de omtrek van een rechthoek kan berekenen.'''\n",
        "def omtrek(lengte, breedte):\n",
        "  return lengte*2 + breedte*2 # TODO: Vervang None voor de formule om de omtrek te berekenen\n",
        "\n",
        "# Jouw code om je uitkomst te controleren"
      ]
    },
    {
      "cell_type": "code",
      "execution_count": 1,
      "metadata": {
        "id": "2qKn-SEiO2VZ"
      },
      "outputs": [
        {
          "name": "stdout",
          "output_type": "stream",
          "text": [
            "Het wachtwoord is correct\n",
            "Het wachtwoord is niet correct\n"
          ]
        }
      ],
      "source": [
        "''' Opdracht 1: Wachtwoord - Maak een functie die controleert of het antwoord goed is\n",
        "\n",
        "Tip: Gebruik if statement'''\n",
        "\n",
        "def kluis(wachtwoord):\n",
        "  # TODO: Maak de code af\n",
        "  if wachtwoord == '123':\n",
        "    return 'Het wachtwoord is correct'\n",
        "  return 'Het wachtwoord is niet correct'\n",
        "\n",
        "# Code om je uitkomst te controleren\n",
        "print(kluis('123'))\n",
        "\n",
        "# TODO: Voeg extra checks toe\n",
        "print(kluis('1234'))"
      ]
    },
    {
      "cell_type": "code",
      "execution_count": 3,
      "metadata": {
        "id": "qWuJj_HNPySX"
      },
      "outputs": [
        {
          "name": "stdout",
          "output_type": "stream",
          "text": [
            "Het type van 20 is een <class 'int'>!\n",
            "Het type van tekstje is een <class 'str'>!\n",
            "Het type van cijfer? is een <class 'str'>!\n"
          ]
        }
      ],
      "source": [
        "''' Opdracht 2: Datatypes - Maak een functie die het type van een object op een mooie manier weergeeft,\n",
        "Bijvoorbeeld voor type_machine(123): 'Het type van 123 is een <class 'int'>!'\n",
        "Bonus: je kan mbv van string slicing zorgen dat alleen int wordt gepakt ipv <class 'int'>\n",
        "'''\n",
        "def type_machine(w):\n",
        "  datatype = str(type(w))\n",
        "  return 'Het type van ' + str(w) + 'is een ' + datatype + '!' # TODO: Vervang None voor een string zoals 'Het type van 123 is een <class 'int'>!'\n",
        "\n",
        "# Code om je uitkomst te controleren\n",
        "print(type_machine(20))\n",
        "\n",
        "# TODO: Voeg extra checks toe\n",
        "print(type_machine('tekstje'))\n",
        "print(type_machine('cijfer?'))"
      ]
    },
    {
      "cell_type": "code",
      "execution_count": 14,
      "metadata": {
        "id": "toXFuWP4Q0zJ"
      },
      "outputs": [
        {
          "name": "stdout",
          "output_type": "stream",
          "text": [
            "     WAAROM HEEFT PYTHON ZOVEEL RARE TEKENS?!       \n",
            "WAAROM HEEFT PYTHON ZOVEEL RARE TEKENS?!\n",
            "VEEL TEKENS!, MAAR Waarom?\n"
          ]
        }
      ],
      "source": [
        "''' Opdracht 3: Strings - Gebruik de methods en string slicing '''\n",
        "s = '     waarom hEeft PythOn zoveeL raRe tekens?!       '\n",
        "\n",
        "# TODO: Zet s om in hoofdletters\n",
        "s = s.upper()\n",
        "print(s)\n",
        "\n",
        "# TODO: Haal de spaties rondom de zin weg\n",
        "s = s.strip()\n",
        "print(s)\n",
        "\n",
        "# TODO: Haal nu alle spaties weg\n",
        "s = s.replace(' ', '')\n",
        "\n",
        "# TODO: laat alleen 'VEEL TEKENS!, MAAR Waarom?' zien met behulp van string slicing\n",
        "s = s[19:23] + ' ' + s[27:33] + s[-1] + ', M' + s[1:4] + ' ' + s[:6].capitalize() + s[-2]\n",
        "print(s)"
      ]
    },
    {
      "cell_type": "code",
      "execution_count": 19,
      "metadata": {
        "id": "jxPi4HkfSWO_"
      },
      "outputs": [
        {
          "name": "stdout",
          "output_type": "stream",
          "text": [
            "['appels', 'peren', 'vlokken', 'havermout']\n",
            "['appels', 'peren']\n",
            "4\n",
            "3\n"
          ]
        }
      ],
      "source": [
        "''' Opdracht 4: Lists - We gaan weer oefenen met de lists '''\n",
        "# TODO: Maak een boodschappen lijstje aan met het datatype list\n",
        "l = ['appels', 'peren', 'vlokken']\n",
        "\n",
        "# TODO: Voeg 'havermout' toe mbv append() en print de lijst\n",
        "l.append('havermout')\n",
        "print(l)\n",
        "\n",
        "# TODO: Haal 'havermout' en het op een na laatste element weg mbv pop() en print de lijst\n",
        "l.pop()\n",
        "l.pop()\n",
        "print(l)\n",
        "\n",
        "# TODO: Voeg twee keer 'appel' toe mbv append() en print de LENGTE van de lijst mbv len()\n",
        "l.append('appel')\n",
        "l.append('appel')\n",
        "print(len(l))\n",
        "\n",
        "# TODO: Maak een set van je lijst en print nogmaals en de LENGTE van de lijst mbv len()\n",
        "l = set(l)\n",
        "print(len(l))"
      ]
    },
    {
      "cell_type": "code",
      "execution_count": 24,
      "metadata": {
        "id": "4HjGPg1uQN-e"
      },
      "outputs": [
        {
          "name": "stdout",
          "output_type": "stream",
          "text": [
            "Het getal is oneven\n",
            "Het getal is even\n",
            "Het getal is even\n"
          ]
        }
      ],
      "source": [
        "''' Opdracht 5: Even/oneven - Maak een functie die weergeeft of een getal even of oneven is\n",
        "Tip: getal modulo 2 is altijd gelijk aan 0 als het getal even is'''\n",
        "def even_oneven(x):\n",
        "  # TODO: Maak de code af\n",
        "  if int(x) % 2 == 0:\n",
        "    return 'Het getal is even'\n",
        "  return 'Het getal is oneven'\n",
        "\n",
        "# Code om je uitkomst te controleren\n",
        "print(even_oneven(123))\n",
        "\n",
        "# TODO: Voeg extra checks toe\n",
        "print(even_oneven(1230))\n",
        "print(even_oneven(222))"
      ]
    }
  ],
  "metadata": {
    "colab": {
      "provenance": []
    },
    "kernelspec": {
      "display_name": "trans",
      "language": "python",
      "name": "python3"
    },
    "language_info": {
      "codemirror_mode": {
        "name": "ipython",
        "version": 3
      },
      "file_extension": ".py",
      "mimetype": "text/x-python",
      "name": "python",
      "nbconvert_exporter": "python",
      "pygments_lexer": "ipython3",
      "version": "3.11.5"
    }
  },
  "nbformat": 4,
  "nbformat_minor": 0
}
